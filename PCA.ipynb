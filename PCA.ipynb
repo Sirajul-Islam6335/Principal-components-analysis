{
  "nbformat": 4,
  "nbformat_minor": 0,
  "metadata": {
    "colab": {
      "provenance": []
    },
    "kernelspec": {
      "name": "python3",
      "display_name": "Python 3"
    },
    "language_info": {
      "name": "python"
    }
  },
  "cells": [
    {
      "cell_type": "code",
      "execution_count": null,
      "metadata": {
        "id": "kJnyTVFPzWor"
      },
      "outputs": [],
      "source": [
        "#Importing library\n",
        "import matplotlib.pyplot as plt\n",
        "import numpy as np\n",
        "import os\n",
        "import pandas as pd\n",
        "dataset  = pd.read_csv(\"/content/drive/MyDrive/SML/room-temperature.csv\").iloc[:].to_numpy()\n",
        "time_of_d = np.array(dataset[:,0])\n",
        "time_of_d = np.arange(len(time_of_d))\n",
        "dataset  = np.array(dataset[:,1:] , dtype = float)\n",
        "dataset_no = dataset\n",
        "dataset_no = np.array(dataset_no)\n",
        "\n",
        "################\n",
        "# Coverience Matrix\n",
        "\n",
        "mean_d    = np.sum(dataset , axis = 0) / float(len(dataset))\n",
        "for a in range(len(dataset)):\n",
        "    dataset_no[a,:] = dataset[a,:] - mean_d\n",
        "dataset_no = np.matrix(dataset_no)\n",
        "coverience_p     = dataset_no.T * dataset_no / float(len(dataset) - 1)\n",
        "\n",
        "##################\n",
        "#Eigen values of coverience matrix\n",
        "\n",
        "eigen_v , eigen_vec = np.linalg.eig(coverience_p)\n",
        "\n",
        "nz  = sum(eigen_v)\n",
        "sgf   = eigen_v / nz\n",
        "\n",
        "# Find out the varience from 0.93 % verience\n",
        "for var in (0.80 , 0.93, 1):\n",
        "\n",
        "    s     = 0.0\n",
        "    I     = 0\n",
        "    while s < var :\n",
        "        s = s + sgf[I]\n",
        "        I = I + 1\n",
        "\n",
        "    point = np.zeros((len(eigen_v),I))\n",
        "\n",
        "    for n in range(I):\n",
        "        for t in range(len(eigen_v)):\n",
        "            point[t,n] = -1 * eigen_vec[t,n]\n",
        "\n",
        " # finding the approximation value\n",
        "\n",
        "    dataset_final = point.T * dataset_no.T               #transpose data\n",
        "    dataset_approx = point * dataset_final #approximation\n",
        "    dataset_approx = dataset_approx.T #transpose approximation\n",
        "\n",
        "    for i in range(len(dataset)):\n",
        "        dataset_approx[i,:] = dataset_approx[i,:] + mean_d\n",
        "\n",
        "    plt.title('ver = ' + str(var))\n",
        "#plotting the two components of varience against time.\n",
        "\n",
        "    for i in range(4):\n",
        "        plt.plot(time_of_d,dataset_approx[:,i],label=\"a-dataset\", color=\"red\")\n",
        "        plt.legend(loc=\"best\")\n",
        "        plt.plot(time_of_d,dataset[:,i],label=\"dataset\", color=\"green\")\n",
        "        plt.legend(loc=\"best\")\n",
        "        plt.show()\n"
      ]
    }
  ]
}